{
 "cells": [
  {
   "cell_type": "code",
   "execution_count": 651,
   "id": "2946b73a-886a-4b45-b11b-8a2dcee4552f",
   "metadata": {},
   "outputs": [],
   "source": [
    "from py2neo import Graph"
   ]
  },
  {
   "cell_type": "code",
   "execution_count": 652,
   "id": "9e0a46fc-27a0-44d7-abc4-03406b3eaa98",
   "metadata": {},
   "outputs": [],
   "source": [
    "#graph = Graph(\"bolt://localhost:7687\", auth=(\"neo4j\", \"password\"))\n",
    "graph = Graph(\"bolt://54.221.161.251\", auth=(\"neo4j\", \"launchbaddies\"))"
   ]
  },
  {
   "cell_type": "code",
   "execution_count": 653,
   "id": "48017a60-76a5-42e8-9e8b-fbe1b5abadb0",
   "metadata": {},
   "outputs": [
    {
     "data": {
      "text/plain": [
       "py2neo.database.Graph"
      ]
     },
     "execution_count": 653,
     "metadata": {},
     "output_type": "execute_result"
    }
   ],
   "source": [
    "type(graph)"
   ]
  },
  {
   "cell_type": "code",
   "execution_count": 654,
   "id": "56c0a2b1-2a32-4c59-b0f1-a5bd5d205aa6",
   "metadata": {},
   "outputs": [],
   "source": [
    "import pandas as pd"
   ]
  },
  {
   "cell_type": "code",
   "execution_count": 655,
   "id": "2cc36c34-a6fc-472a-b277-8f08a8aab618",
   "metadata": {},
   "outputs": [],
   "source": [
    "recipes = pd.read_csv('recipes_data.csv')\n",
    "ingredients = pd.read_csv('ingredients.csv')\n",
    "meals = pd.read_csv('meals.csv')\n",
    "cuisines = pd.read_csv('cuisines.csv')"
   ]
  },
  {
   "cell_type": "code",
   "execution_count": 656,
   "id": "837ac9e2-ea32-4040-882a-e386e12f5f37",
   "metadata": {},
   "outputs": [],
   "source": [
    "for i in range(len(recipes)):\n",
    "    row = recipes.iloc[i]\n",
    "    graph.run(\"CREATE (:RECIPE {name:'\" + row['recipe_name'] + \"',rating:\" + str(row.rating) + \",difficulty:'\" + str(row.difficulty)+\"' ,time:'\" + str(row.time)+\"',num_ingredients:'\" + str(row.num_ingredients)+\"'})\")"
   ]
  },
  {
   "cell_type": "code",
   "execution_count": null,
   "id": "6d35160a-f185-4d38-93f8-b0a82d1d0029",
   "metadata": {},
   "outputs": [],
   "source": []
  },
  {
   "cell_type": "code",
   "execution_count": 657,
   "id": "58b23ae2-a2fc-4d43-b4db-bb896daf3c99",
   "metadata": {},
   "outputs": [
    {
     "data": {
      "text/html": [
       "<div>\n",
       "<style scoped>\n",
       "    .dataframe tbody tr th:only-of-type {\n",
       "        vertical-align: middle;\n",
       "    }\n",
       "\n",
       "    .dataframe tbody tr th {\n",
       "        vertical-align: top;\n",
       "    }\n",
       "\n",
       "    .dataframe thead th {\n",
       "        text-align: right;\n",
       "    }\n",
       "</style>\n",
       "<table border=\"1\" class=\"dataframe\">\n",
       "  <thead>\n",
       "    <tr style=\"text-align: right;\">\n",
       "      <th></th>\n",
       "      <th>_id</th>\n",
       "      <th>ingredient_name</th>\n",
       "      <th>food_type</th>\n",
       "    </tr>\n",
       "  </thead>\n",
       "  <tbody>\n",
       "    <tr>\n",
       "      <th>0</th>\n",
       "      <td>0</td>\n",
       "      <td>Onion</td>\n",
       "      <td>Vegetable</td>\n",
       "    </tr>\n",
       "    <tr>\n",
       "      <th>1</th>\n",
       "      <td>1</td>\n",
       "      <td>Rice</td>\n",
       "      <td>Grain</td>\n",
       "    </tr>\n",
       "    <tr>\n",
       "      <th>2</th>\n",
       "      <td>2</td>\n",
       "      <td>Miso</td>\n",
       "      <td>Legume</td>\n",
       "    </tr>\n",
       "    <tr>\n",
       "      <th>3</th>\n",
       "      <td>3</td>\n",
       "      <td>Tomato</td>\n",
       "      <td>Vegetable</td>\n",
       "    </tr>\n",
       "    <tr>\n",
       "      <th>4</th>\n",
       "      <td>4</td>\n",
       "      <td>Goat</td>\n",
       "      <td>Meat</td>\n",
       "    </tr>\n",
       "  </tbody>\n",
       "</table>\n",
       "</div>"
      ],
      "text/plain": [
       "   _id ingredient_name  food_type\n",
       "0    0           Onion  Vegetable\n",
       "1    1            Rice      Grain\n",
       "2    2            Miso     Legume\n",
       "3    3          Tomato  Vegetable\n",
       "4    4            Goat       Meat"
      ]
     },
     "execution_count": 657,
     "metadata": {},
     "output_type": "execute_result"
    }
   ],
   "source": [
    "ingredients.head()"
   ]
  },
  {
   "cell_type": "code",
   "execution_count": 658,
   "id": "09873ae2-9b85-473f-9dd8-98905ee43de0",
   "metadata": {},
   "outputs": [],
   "source": [
    "for i in range(len(ingredients)):\n",
    "    row = ingredients.iloc[i]\n",
    "    graph.run(\"CREATE (:INGREDIENT {name:'\" + row['ingredient_name'] + \"',group: '\"+ row.food_type +\"'})\")"
   ]
  },
  {
   "cell_type": "code",
   "execution_count": 659,
   "id": "15c2aa92-5fec-4f0e-a002-97b7aec1608b",
   "metadata": {},
   "outputs": [
    {
     "data": {
      "text/html": [
       "<div>\n",
       "<style scoped>\n",
       "    .dataframe tbody tr th:only-of-type {\n",
       "        vertical-align: middle;\n",
       "    }\n",
       "\n",
       "    .dataframe tbody tr th {\n",
       "        vertical-align: top;\n",
       "    }\n",
       "\n",
       "    .dataframe thead th {\n",
       "        text-align: right;\n",
       "    }\n",
       "</style>\n",
       "<table border=\"1\" class=\"dataframe\">\n",
       "  <thead>\n",
       "    <tr style=\"text-align: right;\">\n",
       "      <th></th>\n",
       "      <th>_id</th>\n",
       "      <th>meal_type</th>\n",
       "      <th>time_of_day</th>\n",
       "    </tr>\n",
       "  </thead>\n",
       "  <tbody>\n",
       "    <tr>\n",
       "      <th>0</th>\n",
       "      <td>0</td>\n",
       "      <td>Breakfast</td>\n",
       "      <td>Morning</td>\n",
       "    </tr>\n",
       "    <tr>\n",
       "      <th>1</th>\n",
       "      <td>1</td>\n",
       "      <td>Lunch</td>\n",
       "      <td>Mid-day</td>\n",
       "    </tr>\n",
       "    <tr>\n",
       "      <th>2</th>\n",
       "      <td>2</td>\n",
       "      <td>Snack</td>\n",
       "      <td>NaN</td>\n",
       "    </tr>\n",
       "    <tr>\n",
       "      <th>3</th>\n",
       "      <td>3</td>\n",
       "      <td>Dinner</td>\n",
       "      <td>Evening</td>\n",
       "    </tr>\n",
       "    <tr>\n",
       "      <th>4</th>\n",
       "      <td>4</td>\n",
       "      <td>Dessert</td>\n",
       "      <td>Evening</td>\n",
       "    </tr>\n",
       "  </tbody>\n",
       "</table>\n",
       "</div>"
      ],
      "text/plain": [
       "   _id  meal_type time_of_day\n",
       "0    0  Breakfast     Morning\n",
       "1    1      Lunch     Mid-day\n",
       "2    2      Snack         NaN\n",
       "3    3     Dinner     Evening\n",
       "4    4    Dessert     Evening"
      ]
     },
     "execution_count": 659,
     "metadata": {},
     "output_type": "execute_result"
    }
   ],
   "source": [
    "meals"
   ]
  },
  {
   "cell_type": "code",
   "execution_count": 660,
   "id": "9bf1127e-3a4f-4d88-89ee-0348609f7b73",
   "metadata": {},
   "outputs": [],
   "source": [
    "#for i in range(len(meals)):\n",
    "    #row = meals.iloc[i]\n",
    "    #graph.run(\"CREATE (:MEAL {meal:'\" + row['meal_type'] + \"',time: '\"+ row.time_of_day +\"'})\")"
   ]
  },
  {
   "cell_type": "code",
   "execution_count": 661,
   "id": "7b2fb0e2-7ccf-4584-a4e0-493d7dc134c7",
   "metadata": {},
   "outputs": [
    {
     "data": {
      "text/html": [
       "<div>\n",
       "<style scoped>\n",
       "    .dataframe tbody tr th:only-of-type {\n",
       "        vertical-align: middle;\n",
       "    }\n",
       "\n",
       "    .dataframe tbody tr th {\n",
       "        vertical-align: top;\n",
       "    }\n",
       "\n",
       "    .dataframe thead th {\n",
       "        text-align: right;\n",
       "    }\n",
       "</style>\n",
       "<table border=\"1\" class=\"dataframe\">\n",
       "  <thead>\n",
       "    <tr style=\"text-align: right;\">\n",
       "      <th></th>\n",
       "      <th>_id</th>\n",
       "      <th>cuisine_type</th>\n",
       "      <th>origin_country</th>\n",
       "    </tr>\n",
       "  </thead>\n",
       "  <tbody>\n",
       "    <tr>\n",
       "      <th>0</th>\n",
       "      <td>0</td>\n",
       "      <td>Pakistani</td>\n",
       "      <td>Pakistan</td>\n",
       "    </tr>\n",
       "    <tr>\n",
       "      <th>1</th>\n",
       "      <td>1</td>\n",
       "      <td>French</td>\n",
       "      <td>France</td>\n",
       "    </tr>\n",
       "    <tr>\n",
       "      <th>2</th>\n",
       "      <td>2</td>\n",
       "      <td>Japanese</td>\n",
       "      <td>Japan</td>\n",
       "    </tr>\n",
       "    <tr>\n",
       "      <th>3</th>\n",
       "      <td>3</td>\n",
       "      <td>Spanish</td>\n",
       "      <td>Spain</td>\n",
       "    </tr>\n",
       "  </tbody>\n",
       "</table>\n",
       "</div>"
      ],
      "text/plain": [
       "   _id cuisine_type origin_country\n",
       "0    0    Pakistani       Pakistan\n",
       "1    1       French         France\n",
       "2    2     Japanese          Japan\n",
       "3    3      Spanish          Spain"
      ]
     },
     "execution_count": 661,
     "metadata": {},
     "output_type": "execute_result"
    }
   ],
   "source": [
    "cuisines"
   ]
  },
  {
   "cell_type": "code",
   "execution_count": 662,
   "id": "44cd73f3-eb4d-411f-a3d9-9c5d4dc48118",
   "metadata": {},
   "outputs": [],
   "source": [
    "for i in range(len(cuisines)):\n",
    "    row = cuisines.iloc[i]\n",
    "    graph.run(\"CREATE (:COUNTRY {name:'\" + row['origin_country'] + \"',cuisine: '\"+row.cuisine_type+\"'})\")"
   ]
  },
  {
   "cell_type": "code",
   "execution_count": 663,
   "id": "720b06dd-9728-4aed-8017-d44de4b8ba1c",
   "metadata": {},
   "outputs": [
    {
     "name": "stdout",
     "output_type": "stream",
     "text": [
      "CREATE (:COUNTRY {name:'Pakistan'})\n",
      "CREATE (:COUNTRY {name:'France'})\n",
      "CREATE (:COUNTRY {name:'Japan'})\n",
      "CREATE (:COUNTRY {name:'Spain'})\n"
     ]
    }
   ],
   "source": [
    "for i in range(len(cuisines)):\n",
    "    row = cuisines.iloc[i]\n",
    "    print(\"CREATE (:COUNTRY {name:'\" + row['origin_country'] + \"'})\")"
   ]
  },
  {
   "cell_type": "code",
   "execution_count": 664,
   "id": "8387b488-2a3e-4277-8eb1-4b97aab7df85",
   "metadata": {},
   "outputs": [],
   "source": [
    "#for i in range(len(ingredients)):\n",
    "    #row = ingredients.iloc[i]\n",
    "    #print(\"CREATE (:INGREDIENT {name:'\" + row['ingredient_name'] + \"',group: '\"+ row.food_type +\"'})\")"
   ]
  },
  {
   "cell_type": "code",
   "execution_count": 665,
   "id": "007f0a92-4c1e-4049-acc9-e66570a7bf0e",
   "metadata": {},
   "outputs": [
    {
     "data": {
      "text/html": [
       "<div>\n",
       "<style scoped>\n",
       "    .dataframe tbody tr th:only-of-type {\n",
       "        vertical-align: middle;\n",
       "    }\n",
       "\n",
       "    .dataframe tbody tr th {\n",
       "        vertical-align: top;\n",
       "    }\n",
       "\n",
       "    .dataframe thead th {\n",
       "        text-align: right;\n",
       "    }\n",
       "</style>\n",
       "<table border=\"1\" class=\"dataframe\">\n",
       "  <thead>\n",
       "    <tr style=\"text-align: right;\">\n",
       "      <th></th>\n",
       "      <th>_id</th>\n",
       "      <th>recipe_name</th>\n",
       "      <th>cuisine_id</th>\n",
       "      <th>rating</th>\n",
       "      <th>difficulty</th>\n",
       "      <th>amount_pi</th>\n",
       "      <th>p_ingredient_id</th>\n",
       "      <th>amount_si</th>\n",
       "      <th>s_ingredient_id</th>\n",
       "      <th>num_ingredients</th>\n",
       "      <th>meal_id</th>\n",
       "      <th>salty</th>\n",
       "      <th>spicy</th>\n",
       "      <th>sweet</th>\n",
       "      <th>sour</th>\n",
       "      <th>time</th>\n",
       "    </tr>\n",
       "  </thead>\n",
       "  <tbody>\n",
       "    <tr>\n",
       "      <th>0</th>\n",
       "      <td>0</td>\n",
       "      <td>Goat Biryani</td>\n",
       "      <td>0</td>\n",
       "      <td>9</td>\n",
       "      <td>0</td>\n",
       "      <td>1 kg</td>\n",
       "      <td>4</td>\n",
       "      <td>.5kg</td>\n",
       "      <td>1</td>\n",
       "      <td>18</td>\n",
       "      <td>3</td>\n",
       "      <td>True</td>\n",
       "      <td>True</td>\n",
       "      <td>False</td>\n",
       "      <td>False</td>\n",
       "      <td>180</td>\n",
       "    </tr>\n",
       "    <tr>\n",
       "      <th>1</th>\n",
       "      <td>1</td>\n",
       "      <td>French Onion Soup</td>\n",
       "      <td>1</td>\n",
       "      <td>9</td>\n",
       "      <td>8</td>\n",
       "      <td>6 large</td>\n",
       "      <td>0</td>\n",
       "      <td>1.5 cups</td>\n",
       "      <td>15</td>\n",
       "      <td>11</td>\n",
       "      <td>3</td>\n",
       "      <td>True</td>\n",
       "      <td>False</td>\n",
       "      <td>False</td>\n",
       "      <td>False</td>\n",
       "      <td>80</td>\n",
       "    </tr>\n",
       "    <tr>\n",
       "      <th>2</th>\n",
       "      <td>2</td>\n",
       "      <td>Miso Soup</td>\n",
       "      <td>2</td>\n",
       "      <td>6</td>\n",
       "      <td>8</td>\n",
       "      <td>3 tbsp</td>\n",
       "      <td>2</td>\n",
       "      <td>2 pieces</td>\n",
       "      <td>8</td>\n",
       "      <td>5</td>\n",
       "      <td>2</td>\n",
       "      <td>True</td>\n",
       "      <td>False</td>\n",
       "      <td>False</td>\n",
       "      <td>False</td>\n",
       "      <td>20</td>\n",
       "    </tr>\n",
       "    <tr>\n",
       "      <th>3</th>\n",
       "      <td>3</td>\n",
       "      <td>Falooda</td>\n",
       "      <td>0</td>\n",
       "      <td>0</td>\n",
       "      <td>6</td>\n",
       "      <td>2 cups</td>\n",
       "      <td>14</td>\n",
       "      <td>.25 cups</td>\n",
       "      <td>16</td>\n",
       "      <td>10</td>\n",
       "      <td>4</td>\n",
       "      <td>False</td>\n",
       "      <td>False</td>\n",
       "      <td>True</td>\n",
       "      <td>False</td>\n",
       "      <td>20</td>\n",
       "    </tr>\n",
       "    <tr>\n",
       "      <th>4</th>\n",
       "      <td>4</td>\n",
       "      <td>Kare Raisu</td>\n",
       "      <td>2</td>\n",
       "      <td>1</td>\n",
       "      <td>1</td>\n",
       "      <td>.5kg</td>\n",
       "      <td>1</td>\n",
       "      <td>1kg</td>\n",
       "      <td>11</td>\n",
       "      <td>25</td>\n",
       "      <td>1</td>\n",
       "      <td>False</td>\n",
       "      <td>True</td>\n",
       "      <td>True</td>\n",
       "      <td>False</td>\n",
       "      <td>80</td>\n",
       "    </tr>\n",
       "  </tbody>\n",
       "</table>\n",
       "</div>"
      ],
      "text/plain": [
       "   _id        recipe_name  cuisine_id  rating  difficulty amount_pi  \\\n",
       "0    0       Goat Biryani           0       9           0      1 kg   \n",
       "1    1  French Onion Soup           1       9           8   6 large   \n",
       "2    2          Miso Soup           2       6           8    3 tbsp   \n",
       "3    3            Falooda           0       0           6    2 cups   \n",
       "4    4         Kare Raisu           2       1           1      .5kg   \n",
       "\n",
       "   p_ingredient_id amount_si  s_ingredient_id  num_ingredients  meal_id  \\\n",
       "0                4      .5kg                1               18        3   \n",
       "1                0  1.5 cups               15               11        3   \n",
       "2                2  2 pieces                8                5        2   \n",
       "3               14  .25 cups               16               10        4   \n",
       "4                1       1kg               11               25        1   \n",
       "\n",
       "   salty  spicy  sweet   sour  time  \n",
       "0   True   True  False  False   180  \n",
       "1   True  False  False  False    80  \n",
       "2   True  False  False  False    20  \n",
       "3  False  False   True  False    20  \n",
       "4  False   True   True  False    80  "
      ]
     },
     "execution_count": 665,
     "metadata": {},
     "output_type": "execute_result"
    }
   ],
   "source": [
    "recipes.head()"
   ]
  },
  {
   "cell_type": "code",
   "execution_count": 666,
   "id": "2f9dc156-87f8-4dbe-b34e-9ab0dac45020",
   "metadata": {},
   "outputs": [],
   "source": [
    "for i in range(len(recipes)):\n",
    "    row = recipes.iloc[i]\n",
    "    ingredient_id = row['p_ingredient_id']\n",
    "    graph.run(\"MATCH (r:RECIPE {name:'\" + row['recipe_name'] +\"'}), (i:INGREDIENT {name:'\" + ingredients.iloc[ingredient_id]['ingredient_name'] + \"'}) CREATE (r)-[:USES {amount:'\" + row['amount_pi'] + \"'}]->(i)\")"
   ]
  },
  {
   "cell_type": "code",
   "execution_count": 667,
   "id": "1c7eed5b-4685-49a3-848a-0160fe8b9e83",
   "metadata": {},
   "outputs": [
    {
     "data": {
      "text/html": [
       "<div>\n",
       "<style scoped>\n",
       "    .dataframe tbody tr th:only-of-type {\n",
       "        vertical-align: middle;\n",
       "    }\n",
       "\n",
       "    .dataframe tbody tr th {\n",
       "        vertical-align: top;\n",
       "    }\n",
       "\n",
       "    .dataframe thead th {\n",
       "        text-align: right;\n",
       "    }\n",
       "</style>\n",
       "<table border=\"1\" class=\"dataframe\">\n",
       "  <thead>\n",
       "    <tr style=\"text-align: right;\">\n",
       "      <th></th>\n",
       "      <th>_id</th>\n",
       "      <th>recipe_name</th>\n",
       "      <th>cuisine_id</th>\n",
       "      <th>rating</th>\n",
       "      <th>difficulty</th>\n",
       "      <th>amount_pi</th>\n",
       "      <th>p_ingredient_id</th>\n",
       "      <th>amount_si</th>\n",
       "      <th>s_ingredient_id</th>\n",
       "      <th>num_ingredients</th>\n",
       "      <th>meal_id</th>\n",
       "      <th>salty</th>\n",
       "      <th>spicy</th>\n",
       "      <th>sweet</th>\n",
       "      <th>sour</th>\n",
       "      <th>time</th>\n",
       "    </tr>\n",
       "  </thead>\n",
       "  <tbody>\n",
       "    <tr>\n",
       "      <th>0</th>\n",
       "      <td>0</td>\n",
       "      <td>Goat Biryani</td>\n",
       "      <td>0</td>\n",
       "      <td>9</td>\n",
       "      <td>0</td>\n",
       "      <td>1 kg</td>\n",
       "      <td>4</td>\n",
       "      <td>.5kg</td>\n",
       "      <td>1</td>\n",
       "      <td>18</td>\n",
       "      <td>3</td>\n",
       "      <td>True</td>\n",
       "      <td>True</td>\n",
       "      <td>False</td>\n",
       "      <td>False</td>\n",
       "      <td>180</td>\n",
       "    </tr>\n",
       "    <tr>\n",
       "      <th>1</th>\n",
       "      <td>1</td>\n",
       "      <td>French Onion Soup</td>\n",
       "      <td>1</td>\n",
       "      <td>9</td>\n",
       "      <td>8</td>\n",
       "      <td>6 large</td>\n",
       "      <td>0</td>\n",
       "      <td>1.5 cups</td>\n",
       "      <td>15</td>\n",
       "      <td>11</td>\n",
       "      <td>3</td>\n",
       "      <td>True</td>\n",
       "      <td>False</td>\n",
       "      <td>False</td>\n",
       "      <td>False</td>\n",
       "      <td>80</td>\n",
       "    </tr>\n",
       "    <tr>\n",
       "      <th>2</th>\n",
       "      <td>2</td>\n",
       "      <td>Miso Soup</td>\n",
       "      <td>2</td>\n",
       "      <td>6</td>\n",
       "      <td>8</td>\n",
       "      <td>3 tbsp</td>\n",
       "      <td>2</td>\n",
       "      <td>2 pieces</td>\n",
       "      <td>8</td>\n",
       "      <td>5</td>\n",
       "      <td>2</td>\n",
       "      <td>True</td>\n",
       "      <td>False</td>\n",
       "      <td>False</td>\n",
       "      <td>False</td>\n",
       "      <td>20</td>\n",
       "    </tr>\n",
       "    <tr>\n",
       "      <th>3</th>\n",
       "      <td>3</td>\n",
       "      <td>Falooda</td>\n",
       "      <td>0</td>\n",
       "      <td>0</td>\n",
       "      <td>6</td>\n",
       "      <td>2 cups</td>\n",
       "      <td>14</td>\n",
       "      <td>.25 cups</td>\n",
       "      <td>16</td>\n",
       "      <td>10</td>\n",
       "      <td>4</td>\n",
       "      <td>False</td>\n",
       "      <td>False</td>\n",
       "      <td>True</td>\n",
       "      <td>False</td>\n",
       "      <td>20</td>\n",
       "    </tr>\n",
       "    <tr>\n",
       "      <th>4</th>\n",
       "      <td>4</td>\n",
       "      <td>Kare Raisu</td>\n",
       "      <td>2</td>\n",
       "      <td>1</td>\n",
       "      <td>1</td>\n",
       "      <td>.5kg</td>\n",
       "      <td>1</td>\n",
       "      <td>1kg</td>\n",
       "      <td>11</td>\n",
       "      <td>25</td>\n",
       "      <td>1</td>\n",
       "      <td>False</td>\n",
       "      <td>True</td>\n",
       "      <td>True</td>\n",
       "      <td>False</td>\n",
       "      <td>80</td>\n",
       "    </tr>\n",
       "  </tbody>\n",
       "</table>\n",
       "</div>"
      ],
      "text/plain": [
       "   _id        recipe_name  cuisine_id  rating  difficulty amount_pi  \\\n",
       "0    0       Goat Biryani           0       9           0      1 kg   \n",
       "1    1  French Onion Soup           1       9           8   6 large   \n",
       "2    2          Miso Soup           2       6           8    3 tbsp   \n",
       "3    3            Falooda           0       0           6    2 cups   \n",
       "4    4         Kare Raisu           2       1           1      .5kg   \n",
       "\n",
       "   p_ingredient_id amount_si  s_ingredient_id  num_ingredients  meal_id  \\\n",
       "0                4      .5kg                1               18        3   \n",
       "1                0  1.5 cups               15               11        3   \n",
       "2                2  2 pieces                8                5        2   \n",
       "3               14  .25 cups               16               10        4   \n",
       "4                1       1kg               11               25        1   \n",
       "\n",
       "   salty  spicy  sweet   sour  time  \n",
       "0   True   True  False  False   180  \n",
       "1   True  False  False  False    80  \n",
       "2   True  False  False  False    20  \n",
       "3  False  False   True  False    20  \n",
       "4  False   True   True  False    80  "
      ]
     },
     "execution_count": 667,
     "metadata": {},
     "output_type": "execute_result"
    }
   ],
   "source": [
    "recipes.head()"
   ]
  },
  {
   "cell_type": "raw",
   "id": "b5798590-03e9-44b4-981f-1bcce838899d",
   "metadata": {},
   "source": []
  },
  {
   "cell_type": "code",
   "execution_count": 668,
   "id": "86c3b3a3-a6c3-4de5-b71c-4f89752361f8",
   "metadata": {},
   "outputs": [],
   "source": [
    "for i in range(len(recipes)):\n",
    "    row = recipes.iloc[i]\n",
    "    #amt = row['amount_si']\n",
    "    ingredient_id = row['s_ingredient_id']\n",
    "    graph.run(\"MATCH (r:RECIPE {name:'\" + row['recipe_name'] +\"'}), (i:INGREDIENT {name:'\" + ingredients.iloc[ingredient_id]['ingredient_name'] + \"'}) CREATE (r)-[:USES {amount:'\" + row['amount_si'] + \"'}]->(i)\")"
   ]
  },
  {
   "cell_type": "code",
   "execution_count": 669,
   "id": "ac812c77-cc34-44dd-88e9-4567ba0911f9",
   "metadata": {},
   "outputs": [
    {
     "data": {
      "text/html": [
       "<div>\n",
       "<style scoped>\n",
       "    .dataframe tbody tr th:only-of-type {\n",
       "        vertical-align: middle;\n",
       "    }\n",
       "\n",
       "    .dataframe tbody tr th {\n",
       "        vertical-align: top;\n",
       "    }\n",
       "\n",
       "    .dataframe thead th {\n",
       "        text-align: right;\n",
       "    }\n",
       "</style>\n",
       "<table border=\"1\" class=\"dataframe\">\n",
       "  <thead>\n",
       "    <tr style=\"text-align: right;\">\n",
       "      <th></th>\n",
       "      <th>_id</th>\n",
       "      <th>cuisine_type</th>\n",
       "      <th>origin_country</th>\n",
       "    </tr>\n",
       "  </thead>\n",
       "  <tbody>\n",
       "    <tr>\n",
       "      <th>0</th>\n",
       "      <td>0</td>\n",
       "      <td>Pakistani</td>\n",
       "      <td>Pakistan</td>\n",
       "    </tr>\n",
       "    <tr>\n",
       "      <th>1</th>\n",
       "      <td>1</td>\n",
       "      <td>French</td>\n",
       "      <td>France</td>\n",
       "    </tr>\n",
       "    <tr>\n",
       "      <th>2</th>\n",
       "      <td>2</td>\n",
       "      <td>Japanese</td>\n",
       "      <td>Japan</td>\n",
       "    </tr>\n",
       "    <tr>\n",
       "      <th>3</th>\n",
       "      <td>3</td>\n",
       "      <td>Spanish</td>\n",
       "      <td>Spain</td>\n",
       "    </tr>\n",
       "  </tbody>\n",
       "</table>\n",
       "</div>"
      ],
      "text/plain": [
       "   _id cuisine_type origin_country\n",
       "0    0    Pakistani       Pakistan\n",
       "1    1       French         France\n",
       "2    2     Japanese          Japan\n",
       "3    3      Spanish          Spain"
      ]
     },
     "execution_count": 669,
     "metadata": {},
     "output_type": "execute_result"
    }
   ],
   "source": [
    "cuisines"
   ]
  },
  {
   "cell_type": "code",
   "execution_count": 670,
   "id": "38229745-9b12-4376-b442-2dc7babd3237",
   "metadata": {},
   "outputs": [],
   "source": [
    "#relationships between meals and their country of origin\n",
    "for i in range(len(recipes)):\n",
    "    row = recipes.iloc[i]\n",
    "    cid = row['cuisine_id']\n",
    "    graph.run(\"MATCH (r:RECIPE {name:'\" + row['recipe_name'] +\"'}), (c:COUNTRY{name:'\" + cuisines.iloc[cid]['origin_country'] + \"'}) CREATE (r)-[:FROM]->(c)\")"
   ]
  },
  {
   "cell_type": "code",
   "execution_count": 671,
   "id": "a2b4f542-ab0f-4566-b15b-53dae4cb8cf1",
   "metadata": {},
   "outputs": [
    {
     "name": "stdout",
     "output_type": "stream",
     "text": [
      "Spain\n"
     ]
    }
   ],
   "source": [
    "print(cuisines.iloc[cid]['origin_country'])"
   ]
  },
  {
   "cell_type": "code",
   "execution_count": null,
   "id": "63ceaf02-1b66-4e49-9c20-894d135f3d04",
   "metadata": {},
   "outputs": [],
   "source": []
  },
  {
   "cell_type": "code",
   "execution_count": null,
   "id": "33e90c92-c476-4a44-b306-a5e26b9da00a",
   "metadata": {},
   "outputs": [],
   "source": []
  },
  {
   "cell_type": "code",
   "execution_count": null,
   "id": "6d03d5bf-597e-4b12-994b-d8058fdf22c1",
   "metadata": {},
   "outputs": [],
   "source": []
  },
  {
   "cell_type": "code",
   "execution_count": 622,
   "id": "e30bc319-c6fd-441a-8d2e-40e0836039cf",
   "metadata": {},
   "outputs": [
    {
     "data": {
      "text/html": [
       "(No data)"
      ],
      "text/plain": [
       "(No data)"
      ]
     },
     "execution_count": 622,
     "metadata": {},
     "output_type": "execute_result"
    }
   ],
   "source": [
    "graph.run(\"MATCH (n) DETACH DELETE n\")"
   ]
  },
  {
   "cell_type": "code",
   "execution_count": 644,
   "id": "c8a4868d-cc8d-4a26-9ab7-1ea91ccbfe64",
   "metadata": {},
   "outputs": [],
   "source": [
    "#veg query\n",
    "data = list(graph.run(\"MATCH (one:INGREDIENT)-[:USES]-(ee:RECIPE)-[:USES]-(two:INGREDIENT)WHERE one.group <> 'Meat' AND two.group <> 'Meat' RETURN ee\"))"
   ]
  },
  {
   "cell_type": "code",
   "execution_count": 646,
   "id": "76cd9c09-d41f-4914-b3c5-9cf2c1be40d0",
   "metadata": {},
   "outputs": [],
   "source": [
    "import pprint"
   ]
  },
  {
   "cell_type": "code",
   "execution_count": 647,
   "id": "cf2a7119-7d6f-4daa-a320-db5a94799bbb",
   "metadata": {},
   "outputs": [
    {
     "name": "stdout",
     "output_type": "stream",
     "text": [
      "Record({'ee': Node('RECIPE', difficulty='8', name='French Onion Soup', num_ingredients='11', rating=9, time='80')})\n",
      "Record({'ee': Node('RECIPE', difficulty='8', name='Tostada con Tomate, Aceite, y Jamon', num_ingredients='3', rating=2, time='10')})\n",
      "Record({'ee': Node('RECIPE', difficulty='9', name='Flan ', num_ingredients='5', rating=0, time='80')})\n",
      "Record({'ee': Node('RECIPE', difficulty='6', name='Falooda', num_ingredients='10', rating=0, time='20')})\n",
      "Record({'ee': Node('RECIPE', difficulty='8', name='Miso Soup', num_ingredients='5', rating=6, time='20')})\n",
      "None\n"
     ]
    }
   ],
   "source": [
    "def get_unique_values(a_list):\n",
    "\n",
    "    unique_values = set(a_list)\n",
    "\n",
    "    for value in unique_values:\n",
    "        pprint.pprint(value)\n",
    "\n",
    "print(get_unique_values(data))"
   ]
  },
  {
   "cell_type": "code",
   "execution_count": 650,
   "id": "20da92fe-5f66-42bf-b059-56fc115ea320",
   "metadata": {},
   "outputs": [
    {
     "name": "stdout",
     "output_type": "stream",
     "text": [
      "Record({'ee': Node('RECIPE', difficulty='8', name='French Onion Soup', num_ingredients='11', rating=9, time='80')})\n",
      "Record({'ee': Node('RECIPE', difficulty='8', name='Tostada con Tomate, Aceite, y Jamon', num_ingredients='3', rating=2, time='10')})\n",
      "Record({'ee': Node('RECIPE', difficulty='9', name='Flan ', num_ingredients='5', rating=0, time='80')})\n",
      "Record({'ee': Node('RECIPE', difficulty='6', name='Falooda', num_ingredients='10', rating=0, time='20')})\n",
      "Record({'ee': Node('RECIPE', difficulty='8', name='Miso Soup', num_ingredients='5', rating=6, time='20')})\n"
     ]
    }
   ],
   "source": [
    "get_unique_values(data)"
   ]
  },
  {
   "cell_type": "raw",
   "id": "19c07b38-a53f-4070-b31d-110bea3777af",
   "metadata": {},
   "source": []
  },
  {
   "cell_type": "code",
   "execution_count": null,
   "id": "1ceb4282-4cb1-40ef-b1e0-6f3f29f04b83",
   "metadata": {},
   "outputs": [],
   "source": [
    "for i in get_unique_values(data)\n",
    "    row = "
   ]
  }
 ],
 "metadata": {
  "kernelspec": {
   "display_name": "Python 3",
   "language": "python",
   "name": "python3"
  },
  "language_info": {
   "codemirror_mode": {
    "name": "ipython",
    "version": 3
   },
   "file_extension": ".py",
   "mimetype": "text/x-python",
   "name": "python",
   "nbconvert_exporter": "python",
   "pygments_lexer": "ipython3",
   "version": "3.8.8"
  }
 },
 "nbformat": 4,
 "nbformat_minor": 5
}
